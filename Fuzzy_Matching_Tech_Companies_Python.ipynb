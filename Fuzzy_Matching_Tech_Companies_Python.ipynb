{
 "cells": [
  {
   "cell_type": "markdown",
   "metadata": {},
   "source": [
    "First, we will load the necessary libraries."
   ]
  },
  {
   "cell_type": "code",
   "execution_count": 2,
   "metadata": {},
   "outputs": [],
   "source": [
    "# Load Libraries\n",
    "import pandas as pd"
   ]
  },
  {
   "cell_type": "markdown",
   "metadata": {},
   "source": [
    "Next, we can import all necessary datasets.\n",
    "\n",
    "The local business tax receipt dataset is from Miami Dade County GIS. You need to first download it as a CSV: https://gis-mdc.opendata.arcgis.com/maps/local-business-tax-view"
   ]
  },
  {
   "cell_type": "code",
   "execution_count": 3,
   "metadata": {},
   "outputs": [
    {
     "name": "stderr",
     "output_type": "stream",
     "text": [
      "C:\\Users\\f006p15\\AppData\\Local\\Temp\\ipykernel_6412\\3256684341.py:2: DtypeWarning: Columns (4) have mixed types. Specify dtype option on import or set low_memory=False.\n",
      "  localbusinesstax = df = pd.read_csv(\"Data/local_business_tax_dataset.csv\")\n"
     ]
    }
   ],
   "source": [
    "# Read in data\n",
    "localbusinesstax = df = pd.read_csv(\"Data/local_business_tax_dataset.csv\")\n",
    "crunchbasetech = pd.read_csv(\"Data/crunchbase_tech_subset.csv\") # Subset of tech businesses from crunchbase\n",
    "\n",
    "litreview_tech = pd.read_csv(\"Data/litreview_tech_businesses.csv\", sep=\",\", encoding='mac_roman') # Table created from our original literature review on tech businesses"
   ]
  },
  {
   "cell_type": "markdown",
   "metadata": {},
   "source": [
    "We can then do fuzzy string matching!\n",
    "\n",
    "Part One: fuzzy string matching to find similar businesses between the crunchbase tech subset (generated from R notebook) and the list of businesses we found during a literature review.\n"
   ]
  },
  {
   "cell_type": "code",
   "execution_count": 4,
   "metadata": {},
   "outputs": [],
   "source": [
    "# Fuzzy string matching with literature review tech businesses.\n",
    "\n",
    "# Code referenced from here: https://www.geeksforgeeks.org/how-to-do-fuzzy-matching-on-pandas-dataframe-column-using-python/\n",
    "\n",
    "import fuzzywuzzy\n",
    "from fuzzywuzzy import process\n",
    "\n",
    "# Convert data to Pandas dataframes\n",
    "litdf = pd.DataFrame(litreview_tech) \n",
    "lbtrdf = pd.DataFrame(localbusinesstax) \n",
    "\n",
    "# Converting dataframes to a list to make easier to query\n",
    "lbtrlist = lbtrdf['BUSNAME'].tolist() # Name of the name column in crunchbase table\n",
    "litlist = litdf['Company_Name'].tolist() # Name of the  name column in literature review table\n",
    "\n",
    "# Create empty lists for storing matches later\n",
    "mat1 = []\n",
    "\n",
    "# Setting a similarity threshold for matching\n",
    "threshold = 80\n",
    "\n",
    "# Iterating through list 1 to extract closest match from list 2\n",
    "# Limit = 2 means that it will only append the two closest matches\n",
    "for i in lbtrlist:\n",
    "    matches = (process.extract(i, litlist, limit=2))\n",
    "    # filter matches by threshold\n",
    "    filtered_matches = [match for match in matches if match[1] >= threshold]\n",
    "    mat1.append(filtered_matches)\n",
    "\n",
    "# Create a new DataFrame from the matches\n",
    "matches_df = pd.DataFrame({'lbtr_name': lbtrlist, 'matches': mat1})\n",
    "\n",
    "# Convert dataframe to CSV- can open in files to view matches\n",
    "matches_df.to_csv('Data/lit_lbtr_fuzzymatches.csv', index=False)"
   ]
  },
  {
   "cell_type": "markdown",
   "metadata": {},
   "source": [
    "Next, we can do fuzzy string matching to find similar businesses between the crunchbase tech subset (generated from R notebook) and the local business tax receipt database from Miami County GIS\n",
    "\n",
    "Right now, this is taking about 16 hours to run (!!)"
   ]
  },
  {
   "cell_type": "code",
   "execution_count": 6,
   "metadata": {},
   "outputs": [],
   "source": [
    "# Fuzzy string matching with local business tax receipts\n",
    "\n",
    "# This will take even longer to run\n",
    "\n",
    "# Code referenced from here: https://www.geeksforgeeks.org/how-to-do-fuzzy-matching-on-pandas-dataframe-column-using-python/\n",
    "\n",
    "import fuzzywuzzy\n",
    "from fuzzywuzzy import process\n",
    "\n",
    "# Convert data to Pandas dataframes\n",
    "lbtrdf = pd.DataFrame(localbusinesstax) \n",
    "crunchdf = pd.DataFrame(crunchbasetech) \n",
    "\n",
    "# Converting dataframes to a list to make easier to query\n",
    "crunchlist = crunchdf['name'].tolist() # Name of the name column in crunchbase table\n",
    "lbtrlist = lbtrdf['BUSNAME'].tolist() # Name of the  name column in literature review table\n",
    "\n",
    "# Create empty lists for storing matches later\n",
    "mat1 = []\n",
    "\n",
    "# Setting a similarity threshold for matching\n",
    "threshold = 80\n",
    "\n",
    "# Iterating through list 1 to extract closest match from list 2\n",
    "# Limit = 2 means that it will only append the two closest matches\n",
    "for i in lbtrlist:\n",
    "    matches = (process.extract(i, crunchlist, limit=2))\n",
    "    # filter matches by threshold\n",
    "    filtered_matches = [match for match in matches if match[1] >= threshold]\n",
    "    mat1.append(filtered_matches)\n",
    "\n",
    "# Create a new DataFrame from the matches\n",
    "matches_df = pd.DataFrame({'lbtr_name': lbtrlist, 'matches': mat1})\n",
    "\n",
    "# Convert dataframe to CSV- can open in files to view matches\n",
    "matches_df.to_csv('Data/crunch_lbtr_fuzzymatches.csv', index=False)\n"
   ]
  },
  {
   "cell_type": "markdown",
   "metadata": {},
   "source": [
    "Now that both tables have been exported from the fuzzy matching process, this notebook can be closed and you can return to the R Notebook."
   ]
  }
 ],
 "metadata": {
  "interpreter": {
   "hash": "d6ca1284c7bd7ae5870c8ab738ede617c834b0c6d27e733d7d2a522b2e1e0f98"
  },
  "kernelspec": {
   "display_name": "Python 3.12.0 64-bit",
   "name": "python3"
  },
  "language_info": {
   "codemirror_mode": {
    "name": "ipython",
    "version": 3
   },
   "file_extension": ".py",
   "mimetype": "text/x-python",
   "name": "python",
   "nbconvert_exporter": "python",
   "pygments_lexer": "ipython3",
   "version": "3.12.0"
  },
  "orig_nbformat": 4
 },
 "nbformat": 4,
 "nbformat_minor": 2
}
